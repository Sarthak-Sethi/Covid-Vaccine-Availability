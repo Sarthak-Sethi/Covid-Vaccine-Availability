{
 "cells": [
  {
   "cell_type": "markdown",
   "metadata": {},
   "source": [
    "###  handling Imports\n",
    "resuests is used to handle api <br>\n",
    "datetime is for date <br>\n",
    "json is to work with json <br>\n",
    "urllib is to add arguments in url <br>\n",
    "twilio.rest is to send sms"
   ]
  },
  {
   "cell_type": "code",
   "execution_count": 86,
   "metadata": {},
   "outputs": [],
   "source": [
    "import requests\n",
    "from datetime import date\n",
    "import json\n",
    "import urllib\n",
    "from twilio.rest import Client"
   ]
  },
  {
   "cell_type": "markdown",
   "metadata": {},
   "source": [
    "### Get Current Date\n",
    "https://www.programiz.com/python-programming/datetime/current-datetime"
   ]
  },
  {
   "cell_type": "code",
   "execution_count": 87,
   "metadata": {},
   "outputs": [
    {
     "name": "stdout",
     "output_type": "stream",
     "text": [
      "date = 22-05-2021\n"
     ]
    }
   ],
   "source": [
    "today = date.today()\n",
    "# dd/mm/YY\n",
    "todays_date = today.strftime(\"%d-%m-%Y\")\n",
    "print(\"date =\", todays_date)"
   ]
  },
  {
   "cell_type": "markdown",
   "metadata": {},
   "source": [
    "### Fetching json response\n",
    "API Source = https://apisetu.gov.in/public/marketplace/api/cowin#/Appointment%20Availability%20APIs/findByDistrict <br>\n",
    "To add arguments in url = https://stackoverflow.com/questions/28906859/module-has-no-attribute-urlencode <br>\n",
    "Get requests n python = https://www.youtube.com/watch?v=hpc5jyVpUpw <br>\n",
    "\n"
   ]
  },
  {
   "cell_type": "code",
   "execution_count": 93,
   "metadata": {},
   "outputs": [
    {
     "data": {
      "text/plain": [
       "<Response [200]>"
      ]
     },
     "execution_count": 93,
     "metadata": {},
     "output_type": "execute_result"
    }
   ],
   "source": [
    "args = {\"date\": todays_date}\n",
    "url = \"https://cdn-api.co-vin.in/api/v2/appointment/sessions/public/findByPin?pincode=143001&date={}\".format(urllib.parse.urlencode(args))\n",
    "headers = {'User-Agent': 'Mozilla/5.0 (Macintosh; Intel Mac OS X 10_11_5) AppleWebKit/537.36 (KHTML, like Gecko) Chrome/50.0.2661.102 Safari/537.36'}\n",
    "response = requests.get(url,headers = headers)\n",
    "data_in_json = response.json()\n",
    "response"
   ]
  },
  {
   "cell_type": "markdown",
   "metadata": {},
   "source": [
    "### Sending SMS"
   ]
  },
  {
   "cell_type": "code",
   "execution_count": 94,
   "metadata": {},
   "outputs": [],
   "source": [
    "def send_sms(message_data) :\n",
    "    # Your Account SID from twilio.com/console\n",
    "    account_sid = \"AC3a0e10ccac92c3fada2bbee066af9147\"\n",
    "    # Your Auth Token from twilio.com/console\n",
    "    auth_token  = \"7d280f1db48b93c15e0df49054551785\"\n",
    "    \n",
    "    client = Client(account_sid, auth_token)\n",
    "    message = client.messages.create(\n",
    "        to=\"+918557024411\", \n",
    "        from_=\"+18057758945\",\n",
    "        body=message_data)\n",
    "\n",
    "    print(message.sid)"
   ]
  },
  {
   "cell_type": "markdown",
   "metadata": {},
   "source": [
    "### Parsing data\n",
    "looping over all the reposne and getting required data "
   ]
  },
  {
   "cell_type": "code",
   "execution_count": 97,
   "metadata": {},
   "outputs": [],
   "source": [
    "for i in range(len(data_in_json[\"sessions\"])) :\n",
    "    second_dose_count = data_in_json[\"sessions\"][i][\"available_capacity_dose2\"]\n",
    "    vaccine = data_in_json[\"sessions\"][i][\"vaccine\"]\n",
    "    min_age_limit = data_in_json[\"sessions\"][i][\"min_age_limit\"]\n",
    "    if(vaccine==\"COVISHIELD\" and second_dose_count!=0 and min_age_limit == 45) :\n",
    "        name = data_in_json[\"sessions\"][i][\"name\"]\n",
    "        address = data_in_json[\"sessions\"][i][\"address\"]\n",
    "        fees = data_in_json[\"sessions\"][i][\"fee_type\"]\n",
    "        print(\"Name = \" ,name)\n",
    "        print(\"Address = \" ,address)\n",
    "        print(\"FEES = \" ,fees)\n",
    "        message_data = \"Name of covid vaccination center \"+name+\" Address of covid vaccination center \"+address+\" FEES\"+fees\n",
    "        send_sms(message_data)"
   ]
  },
  {
   "cell_type": "markdown",
   "metadata": {},
   "source": [
    "### Notification on your PC \n",
    "https://www.geeksforgeeks.org/windows-10-toast-notifications-with-python/"
   ]
  },
  {
   "cell_type": "code",
   "execution_count": 3,
   "metadata": {},
   "outputs": [
    {
     "data": {
      "text/plain": [
       "True"
      ]
     },
     "execution_count": 3,
     "metadata": {},
     "output_type": "execute_result"
    }
   ],
   "source": [
    "from win10toast import ToastNotifier\n",
    "n = ToastNotifier()\n",
    "n.show_toast(\"COVID VACCINATIION\", \"Vaccine Available\", duration = 10)"
   ]
  },
  {
   "cell_type": "code",
   "execution_count": null,
   "metadata": {},
   "outputs": [],
   "source": []
  }
 ],
 "metadata": {
  "kernelspec": {
   "display_name": "Python 3",
   "language": "python",
   "name": "python3"
  },
  "language_info": {
   "codemirror_mode": {
    "name": "ipython",
    "version": 3
   },
   "file_extension": ".py",
   "mimetype": "text/x-python",
   "name": "python",
   "nbconvert_exporter": "python",
   "pygments_lexer": "ipython3",
   "version": "3.8.5"
  }
 },
 "nbformat": 4,
 "nbformat_minor": 2
}
